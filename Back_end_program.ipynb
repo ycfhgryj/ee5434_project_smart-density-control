{
 "cells": [
  {
   "cell_type": "code",
   "execution_count": null,
   "metadata": {},
   "outputs": [],
   "source": [
    "# packets\n",
    "import time\n",
    "import ttn\n",
    "import csv\n",
    "import os\n",
    "import numpy as np\n",
    "import pandas as pd\n",
    "import math\n",
    "\n",
    "#initial parameters\n",
    "total_seats=1\n",
    "remain_seats=total_seats\n",
    "temperature=0\n",
    "count=0\n",
    "#fill in id you can check it in the TTN website\n",
    "app_id = \"ee5437_project\"\n",
    "access_key = \"ttn-account-v2.IXWeU4sMkZ-uXNWEuxDdQhXaRx0DTqEjbZ2fLkNyUF0\"\n",
    "dev_id= \"sensor_one\"\n",
    "#sent_message=1\n",
    "sent_message={ \"message\": \"Try to measure again or go to the hospital\" };\n",
    "#def uplink_callback(msg, client):\n",
    "  #print(\"Received uplink from \", msg.dev_id)\n",
    "  #print(msg)\n",
    "\n",
    "def downlink_callback(mid, client):\n",
    "    return 0\n",
    "\n",
    "def returnTemperature(msg,client):\n",
    "    global temperature\n",
    "    global count\n",
    "    print(\"app id is:\", msg.payload_fields)\n",
    "    buffer=str(msg.payload_fields)  \n",
    "    index1=buffer.find('=')\n",
    "    index2=len(buffer)\n",
    "    temp=buffer[index1+2:index2-2]\n",
    "    if temp=='Payment finished':\n",
    "        count=count-1\n",
    "    else:\n",
    "        temperature=float(temp)\n",
    "\n",
    "    \n",
    "handler = ttn.HandlerClient(app_id, access_key)\n",
    "\n",
    "\n",
    "# using mqtt client\n",
    "while 1 :\n",
    "    global remain_seats\n",
    "    mqtt_client = handler.data()\n",
    "    mqtt_client.set_uplink_callback(returnTemperature)\n",
    "    mqtt_client.connect()\n",
    "    if (temperature>37.3):\n",
    "        con_msg=mqtt_client.send(dev_id, sent_message, port=15,conf=True,sched='replace')\n",
    "        print(con_msg)\n",
    "    elif (temperature>=36 and temperature<=37.3):\n",
    "        count=count+1\n",
    "        \n",
    "    remain_seats=total_seats-count      \n",
    "     \n",
    "    if (remain_seats<=0):\n",
    "        sent_full_message={ \"message\": \"Sorry, there is no seat left\" };\n",
    "        mqtt_client.set_downlink_callback(downlink_callback)\n",
    "        mqtt_client.send(dev_id, sent_full_message, port=15,conf=True)\n",
    "        count=count-1\n",
    "    \n",
    "    temperature=0\n",
    "    time.sleep(5) # client respond time\n",
    "    mqtt_client.close()\n",
    "\n"
   ]
  },
  {
   "cell_type": "code",
   "execution_count": null,
   "metadata": {},
   "outputs": [],
   "source": [
    "import inspect\n",
    "\n",
    "inspect.signature(mqtt_client.send)"
   ]
  },
  {
   "cell_type": "code",
   "execution_count": null,
   "metadata": {},
   "outputs": [],
   "source": []
  }
 ],
 "metadata": {
  "kernelspec": {
   "display_name": "Python 3",
   "language": "python",
   "name": "python3"
  },
  "language_info": {
   "codemirror_mode": {
    "name": "ipython",
    "version": 3
   },
   "file_extension": ".py",
   "mimetype": "text/x-python",
   "name": "python",
   "nbconvert_exporter": "python",
   "pygments_lexer": "ipython3",
   "version": "3.8.5"
  }
 },
 "nbformat": 4,
 "nbformat_minor": 4
}
